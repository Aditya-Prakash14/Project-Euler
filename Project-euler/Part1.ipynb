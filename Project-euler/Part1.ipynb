{
 "cells": [
  {
   "cell_type": "markdown",
   "id": "3f318243",
   "metadata": {},
   "source": [
    "# 📐 Project Euler"
   ]
  },
  {
   "cell_type": "markdown",
   "id": "48e46b88",
   "metadata": {
    "vscode": {
     "languageId": "plaintext"
    }
   },
   "source": [
    "<img src=\"questions/q1.png\" width=\"1000\" height=\"500\">\n",
    "\n"
   ]
  },
  {
   "cell_type": "code",
   "execution_count": 1,
   "id": "79b45ad0",
   "metadata": {},
   "outputs": [
    {
     "name": "stdout",
     "output_type": "stream",
     "text": [
      "233168\n"
     ]
    }
   ],
   "source": [
    "sumof3 = 0\n",
    "sumof5 = 0\n",
    "sumofboth = 0\n",
    "\n",
    "for i in range(1000):\n",
    "    if i % 3 == 0 and i % 5 == 0:\n",
    "        sumofboth += i\n",
    "    elif i % 3 == 0:\n",
    "        sumof3 += i\n",
    "    elif i % 5 == 0:\n",
    "        sumof5 += i\n",
    "\n",
    "print(sumof3 + sumof5 + sumofboth)\n"
   ]
  },
  {
   "cell_type": "markdown",
   "id": "9db742bd",
   "metadata": {},
   "source": [
    "<img src=\"questions/q2.png\" width=\"1000\" height=\"500\">\n"
   ]
  },
  {
   "cell_type": "code",
   "execution_count": 5,
   "id": "bb0f6670",
   "metadata": {},
   "outputs": [
    {
     "name": "stdout",
     "output_type": "stream",
     "text": [
      "Sum of even Fibonacci numbers: 4613732\n"
     ]
    }
   ],
   "source": [
    "a, b = 1, 2\n",
    "total = 0\n",
    "\n",
    "while b <= 4000000:\n",
    "    if b % 2 == 0:\n",
    "        total += b\n",
    "    a, b = b, a + b\n",
    "\n",
    "print(\"Sum of even Fibonacci numbers:\", total)\n",
    "\n"
   ]
  },
  {
   "cell_type": "markdown",
   "id": "fab645b8",
   "metadata": {},
   "source": [
    "<img src=\"questions/q3.png\" width=\"1000\" height=\"500\">\n"
   ]
  },
  {
   "cell_type": "code",
   "execution_count": 4,
   "id": "2996dd2c",
   "metadata": {},
   "outputs": [
    {
     "name": "stdout",
     "output_type": "stream",
     "text": [
      "Largest prime factor: 6857\n"
     ]
    }
   ],
   "source": [
    "n = 600851475143\n",
    "i = 2\n",
    "\n",
    "while i * i <= n:\n",
    "    if n % i == 0:\n",
    "        n //= i\n",
    "    else:\n",
    "        i += 1\n",
    "\n",
    "print(\"Largest prime factor:\", n)"
   ]
  }
 ],
 "metadata": {
  "kernelspec": {
   "display_name": "Python 3",
   "language": "python",
   "name": "python3"
  },
  "language_info": {
   "codemirror_mode": {
    "name": "ipython",
    "version": 3
   },
   "file_extension": ".py",
   "mimetype": "text/x-python",
   "name": "python",
   "nbconvert_exporter": "python",
   "pygments_lexer": "ipython3",
   "version": "3.13.3"
  }
 },
 "nbformat": 4,
 "nbformat_minor": 5
}
